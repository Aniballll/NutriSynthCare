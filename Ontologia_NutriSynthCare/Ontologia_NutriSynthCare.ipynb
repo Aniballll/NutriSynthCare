🩺 Este notebook forma parte del proyecto NutriSynthCare, un entorno de simulación sobre salud pública y recomendaciones nutricionales personalizadas.

👥 Desarrollado por:

Daniel Cruz – dCruzCoding
Aníbal García – Aniballll
📁 Repositorio completo: NutriSynthCare

📜 Licencia: Este proyecto está disponible bajo la licencia MIT. Consulta el archivo LICENSE para más información.

🙏 Agradecimientos especiales a todas las fuentes de datos y literatura científica que han hecho posible la creación de las bases sintéticas utilizadas en este proyecto.

🤝 ¿Te interesa colaborar? ¡Estás invitado!
Puedes contribuir mejorando los notebooks, proponiendo nuevas ideas o corrigiendo errores:

Haz un fork del repo
Crea una rama (git checkout -b mejora/nueva-idea)
Abre un Pull Request explicando tu propuesta

=========================================================================
⚙️ PIPELINE DE LA GENERACIÓN DE LA BASE DE DATOS
RIESGO CARDIOVASCULAR ❤️ EN PERSONAS CON DIABETES 🩸
=========================================================================

+---------------------------------+      +-----------------------------------------+
|    DB Sintética 1: Diabetes     |      |  DB Sintética 2: Riesgo Cardiovascular  |
+---------------------------------+      +-----------------------------------------+
             |                                              |
             '--------------------. .-----------------------'
                                  |
                                  v
                  +--------------------------------+
                  |    1. UNIÓN DE BASES DE DATOS  |
                  |     (Outer Join por columnas   |
                  |           comunes)             |
                  +--------------------------------+
                                  |
                                  v
        +---------------------------------------------------------+
        |         Dataset Combinado con Valores Nulos (NaN)       |
        |  (Columnas exclusivas se rellenan con nulos para los    |
        |        registros que no tienen esa información)         |
        +---------------------------------------------------------+
                                  |
                                  v
          +----------------------------------------------------+
          |      2. IMPUTACIÓN CON ML Y REDES NEURONALES       |
          |  (Se predicen y rellenan los valores NaN usando   |
          |       las otras columnas como predictores)        |
          +----------------------------------------------------+
                                  |
                                  v
                  +------------------------------------+
                  |      DATASET FINAL COMPLETO        |
                  | (Listo para análisis y modelado)   |
                  +------------------------------------+

Base de datos "precov_diabetes"
⚠️ Nota: Esta base de datos han sido definidas con fines educativos y simulativos, y no debe ser utilizada para sustituir datos clínicos reales sin validación por parte de expertos en epidemiología o salud pública.

Variables objetivo: Edad, año de registro del paciente, IMC, diagnóstico de diabetes, niveles de insulina, niveles de glucosa (HbA1c), colesterol (perfil lipidico), frecuencia cardíaca (o presión sanguínea)

import numpy as np
import pandas as pd
import matplotlib.pyplot as plt
import seaborn as sns
from scipy.stats import truncnorm
import warnings

# Reproducibilidad
np.random.seed(42)

warnings.simplefilter(action='ignore', category=FutureWarning)

🎯 Objetivo
Generar una distribución realista de edades adultas para una muestra sintética de población española, basada en datos previos a la pandemia, con el fin de usarla en simulaciones relacionadas con enfermedades crónicas como la diabetes tipo 2.

🧠 Justificación teórica
Para la variable Edad, nos basamos en estudios epidemiológicos realizados en población adulta española antes del COVID. A partir de estos, definimos una distribución aproximada:

Edad:
  Mínimo = 21
  Máximo = 90
  Q1      = 35
  Mediana = 45
  Q3      = 55
  Media   = 50
  Desv. estándar = 11

La elección de una distribución normal truncada permite simular adecuadamente una población adulta, eliminando edades irrelevantes para el análisis (por ejemplo, menores de edad o mayores de 90 años), pero manteniendo la forma natural de una curva de campana.

🧪 Fuentes bibliográficas
Los valores utilizados se alinean con los resultados de estudios realizados sobre diabetes en España antes de la pandemia:

Estudio di@bet.es (2008–2010)
Población adulta española (>18 años).
Edad media próxima a 50 años.
Prevalencia de diabetes tipo 2: 13,8 %.
Fuente: Soriguer F et al. Diabetes Care, 2012.

Estudio SIMETAP-DM (hasta 2019)
Comunidad de Madrid, n = 6.631 adultos.
Edad media: 55 años (DE = 17,5).
Prevalencia de diabetes: 15,6 % en adultos; 30 % en mayores de 70 años.
Fuente: López-Simarro F et al. Atención Primaria, 2020.

Estudios autonómicos en Atención Primaria
Muestran una concentración de casos entre los 40 y los 70 años.
Edad media general oscila entre 50–56 años dependiendo de la zona.
Fuente: Grupo de Estudio de Diabetes en Atención Primaria de Salud (GEDAPS).

📌 Conclusión
El rango y la forma de la distribución elegida (media = 47, desviación = 12, límites en 21 y 90) es coherente con la demografía de personas diagnosticadas o en riesgo de desarrollar diabetes tipo 2 en España antes de la pandemia. Así, esta simulación resulta válida para estudios o prototipos que pretendan aproximarse a esa realidad poblacional.

# Parámetros deseados para la variable Edad
n = 8000
mean_age = 47
std_age = 12
min_age = 21
max_age = 90

# Calcular los límites de truncamiento estandarizados
a, b = (min_age - mean_age) / std_age, (max_age - mean_age) / std_age

# Generar edades con distribución normal truncada
edad = truncnorm.rvs(a, b, loc=mean_age, scale=std_age, size=n)

# Redondear a enteros
edad = np.round(edad).astype(int)

# Crear DataFrame
df_edad = pd.DataFrame({'Edad': edad})

# Estadísticas descriptivas
descripcion = df_edad.describe()

# Histograma
plt.figure(figsize=(10, 5))
sns.histplot(df_edad['Edad'], bins=30, kde=True)
plt.title("Distribución de Edad (n=5000)")
plt.xlabel("Edad")
plt.ylabel("Frecuencia")
plt.grid(True)
plt.tight_layout()

plt.show()

descripcion

Asignación del sexo por cuartiles de edad
Con el objetivo de generar una base de datos sintética de pacientes con diabetes que resulte clínicamente realista, se ha optado por asignar el sexo de los pacientes en función de su grupo de edad (cuartil). Esta decisión se basa en datos epidemiológicos que evidencian diferencias en la prevalencia de la diabetes tipo 2 según el sexo y la edad.

🧠 Justificación clínica
Diversos estudios muestran que:

En edades más tempranas, la diabetes tipo 2 es más frecuente en hombres, en parte por mayor prevalencia de obesidad visceral y factores de riesgo metabólicos.
En edades avanzadas, la supervivencia femenina hace que el número de mujeres con diabetes supere al de hombres.
En edades intermedias, la prevalencia tiende a igualarse, aunque algunas fuentes muestran una ligera ventaja para las mujeres.

Por tanto, se ha optado por una asignación que refleja estas tendencias sin sobrerrepresentar un sexo en exceso, proporcionando un equilibrio razonable entre realismo y simplicidad estadística.

📊 Proporciones utilizadas
Las siguientes proporciones se han aplicado a cada cuartil de edad en la variable Edad:

Cuartil de Edad	Rango aproximado (percentiles)	% Hombre	% Mujer
Q1	0–25%	65%	35%
Q2	25–50%	60%	40%
Q3	50–75%	48%	52%
Q4	75–100%	45%	55%

Además, se ha creado una columna adicional cuartil_edad para facilitar análisis posteriores basados en este criterio.

📚 Bibliografía
Gutiérrez-Fisac, J.L., Royo-Bordonada, M.A., Banegas, J.R., & Rodríguez-Artalejo, F. (2004). Diabetes mellitus en España: diferencias por sexo, edad y nivel educativo. Revista Española de Salud Pública, 78(6), 547–558.
https://scielo.isciii.es/pdf/resp/v78n6/original1.pdf

Ministerio de Sanidad, Gobierno de España. (2020). Estrategia en diabetes del Sistema Nacional de Salud (Actualización).
https://www.sanidad.gob.es/organizacion/sns/planCalidadSNS/pdf/excelencia/diabetes/Estrategia_en_Diabetes_del_SNS_2021.pdf

International Diabetes Federation. (2021). IDF Diabetes Atlas (10th ed.).
https://diabetesatlas.org/

df = df_edad.copy()

# Calcular cuartiles
q1 = df['Edad'].quantile(0.25)
q2 = df['Edad'].quantile(0.50)
q3 = df['Edad'].quantile(0.75)

# Crear variable 'Cuartil_Edad'
def asignar_cuartil(edad):
    if edad <= q1:
        return 'Q1'
    elif edad <= q2:
        return 'Q2'
    elif edad <= q3:
        return 'Q3'
    else:
        return 'Q4'

df['Cuartil_Edad'] = df['Edad'].apply(asignar_cuartil)
print("Variable 'Cuartil_Edad' creada con éxito. Los cuartiles establecidos son:")
print(f"Q1: {q1}, Q2: {q2}, Q3: {q3}")

# Inicializar columna Sexo
df['Sexo'] = None

# Distribución por cuartil
proporciones = {
    'Q1': {'Hombre': 0.65, 'Mujer': 0.35},
    'Q2': {'Hombre': 0.60, 'Mujer': 0.40},
    'Q3': {'Hombre': 0.48, 'Mujer': 0.52},
    'Q4': {'Hombre': 0.45, 'Mujer': 0.55},
}

# Asignar sexo por cuartil
for cuartil, props in proporciones.items():
    idx = df[df['Cuartil_Edad'] == cuartil].index
    n = len(idx)
    n_hombres = int(n * props['Hombre'])
    idx_hombres = np.random.choice(idx, size=n_hombres, replace=False)
    idx_mujeres = idx.difference(idx_hombres)
    
    df.loc[idx_hombres, 'Sexo'] = 'Hombre'
    df.loc[idx_mujeres, 'Sexo'] = 'Mujer'

# Revisar distribución
sexo_distribution_porcentaje = df['Sexo'].value_counts(normalize=True) * 100
sexo_por_cuartil = df.groupby('Cuartil_Edad')['Sexo'].value_counts(normalize=True).unstack() * 100

display(df)

print("\nDistribución de Sexo total:")
print(sexo_distribution_porcentaje)
print("\nDistribución de Sexo por Cuartil:")
print(sexo_por_cuartil)

Variable DIABETES
La siguiente variable será la variable categórica DIABETES, con la cual definiremos el diagnóstico de cada participante. Las opciones son:

DM1 (diabetes mellitus tipo 1)
DM2 (diabetes mellitus tipo 2)
Gestacional
Sin diabetes

Para definir su distribución, se han considerado tendencias epidemiológicas reportadas en España y Europa:

Diabetes tipo 1 (DM1): Representa aproximadamente un 5-10% de los casos de diabetes. Suele aparecer en edades tempranas (infancia, adolescencia o adultez joven) y es algo más común en hombres (Soriguer et al., 2012; Sociedad Española de Diabetes, 2020).

Diabetes tipo 2 (DM2): Constituye entre el 85-90% de los casos de diabetes. Su incidencia aumenta con la edad y se relaciona con factores de riesgo como obesidad, sedentarismo y antecedentes familiares. Tiene mayor prevalencia en hombres hasta los 75 años, a partir de lo cual se iguala o invierte (IDIBAPS, 2021; SED, 2020).

Diabetes gestacional: Se diagnostica en mujeres embarazadas, usualmente entre los 20 y 40 años. En España, afecta entre el 5 y el 10% de los embarazos, dependiendo de la comunidad autónoma y los criterios diagnósticos (Grupo Español de Diabetes y Embarazo, 2015; SED, 2020). Por tanto, esta categoría se restringe exclusivamente a mujeres en edad fértil (cuartiles Q1 y Q2).

Sin diabetes: Más común en población joven y mujeres, dado el menor riesgo general en estas franjas (Estudio di@bet.es, 2012).

Matriz de probabilidades según edad, sexo y tipo de diabetes
Cuartil Edad	Sexo	Prob DM1	Prob DM2	Prob Gestacional	Prob Sin diabetes
Q1	Hombre	0.35	0.25	0.00	0.40
Q1	Mujer	0.25	0.18	0.15	0.42
Q2	Hombre	0.20	0.55	0.00	0.25
Q2	Mujer	0.15	0.45	0.10	0.30
Q3	Hombre	0.10	0.65	0.00	0.25
Q3	Mujer	0.08	0.60	0.00	0.32
Q4	Hombre	0.08	0.70	0.00	0.22
Q4	Mujer	0.05	0.68	0.00	0.27

-> Para los prob gestacional no solamente es de gestacional a esa edad si no tmbn hay que tener en cuenta la prob de embarazo a esa edad.

Referencias
Soriguer, F., et al. (2012). Prevalencia de la diabetes mellitus y otras alteraciones del metabolismo de la glucosa en España: el estudio di@bet.es. Diabetología, 55(1), 88–93. https://doi.org/10.1007/s00125-011-2336-2
Sociedad Española de Diabetes (SED). (2020). Informe anual sobre diabetes en España. https://www.sediabetes.org
Grupo Español de Diabetes y Embarazo (GEDE). (2015). Recomendaciones para el diagnóstico y tratamiento de la diabetes gestacional. Revista Clínica Española, 215(9), 476–483.
IDIBAPS - Hospital Clínic de Barcelona. (2021). Epidemiología de la diabetes tipo 2 en España.
Instituto de Salud Carlos III. (2020). Encuesta Nacional de Salud de España. https://www.sanidad.gob.es/estadEstudios/estadisticas/encuestaNacional/
Ministerio de Sanidad. (2022). Estrategia en Diabetes del Sistema Nacional de Salud. https://www.sanidad.gob.es/organizacion/sns/planCalidadSNS/pdf/Estrategia\_Diabetes.pdf

# Diccionario de probabilidades
probabilidades = {  #  Tipo1 Tipo2 Gest No diab
    ('Q1', 'Hombre'): [0.35, 0.25, 0.00, 0.40],
    ('Q1', 'Mujer') : [0.25, 0.18, 0.15, 0.42],
    ('Q2', 'Hombre'): [0.20, 0.55, 0.00, 0.25],
    ('Q2', 'Mujer') : [0.15, 0.45, 0.10, 0.30],
    ('Q3', 'Hombre'): [0.10, 0.65, 0.00, 0.25],
    ('Q3', 'Mujer') : [0.08, 0.60, 0.00, 0.32],
    ('Q4', 'Hombre'): [0.08, 0.70, 0.00, 0.22],
    ('Q4', 'Mujer') : [0.05, 0.68, 0.00, 0.27],
}

tipos_diabetes = ['Tipo 1', 'Tipo 2', 'Gestacional', 'No diabetes']

# Función para asignar tipo de diabetes
def asignar_diabetes(cuartil, sexo):
    probs = probabilidades.get((cuartil, sexo), [0.20, 0.50, 0.10, 0.20])
    probs = np.array(probs)
    probs = probs / probs.sum()  # Normalizar para asegurar suma 1
    # print(f"Asignando diabetes para ({cuartil}, {sexo}) con probabilidades: {probs}")
    return np.random.choice(tipos_diabetes, p=probs)

df["Tipo_Diabetes"] = df.apply(lambda row: asignar_diabetes(row["Cuartil_Edad"], row["Sexo"]), axis=1)

# Estadísticas
conteo = df['Tipo_Diabetes'].value_counts()
porcentajes = (conteo / len(df) * 100).round(2)

# Mostrar valores de tipos de diabetes según cuartil y sexo
diabetes_por_cuartil_sexo = df.groupby(['Cuartil_Edad', 'Sexo', 'Tipo_Diabetes']).size().unstack(fill_value=0)
print("\nDistribución de tipos de diabetes por cuartil y sexo:")
print(diabetes_por_cuartil_sexo)

Definición de la variable IMC
A continuación, se definen los rangos, medias y desviaciones estándar utilizadas para simular el Índice de Masa Corporal (IMC) de forma realista, en función del diagnóstico de diabetes. La simulación tiene en cuenta factores como sexo y edad (o cuartil de edad), para generar valores plausibles y útiles para análisis posteriores.

Diagnóstico	IMC mínimo	IMC máximo	Media ajustada	STD	Justificación
No diabetes	17.0	35.0	22.5	2.5	Según datos del Estudio ENRICA y la Encuesta Nacional de Salud de España (ENSE 2020), el IMC saludable en población adulta española está en torno a 22-24, con un rango habitual de 18.5 a 30 para no diabéticos. Casos de obesidad severa sin diabetes son menos frecuentes.
Tipo 1	18.5	38.0	24.0	3.0	Estudios españoles como los de la Red Española de Diabetes (REDIAPP) muestran que personas con diabetes tipo 1 presentan generalmente un IMC dentro de rangos normales o moderadamente elevados, con baja prevalencia de obesidad severa.
Tipo 2	24.0	48.0	33.0	4.0	La relación entre obesidad y diabetes tipo 2 en España está bien documentada en informes del Ministerio de Sanidad y en la Guía de práctica clínica sobre diabetes tipo 2 en atención primaria (SEMERGEN), donde el IMC medio en pacientes con DM2 suele superar 30, con muchos casos en obesidad tipo I y II.
Gestacional	22.0	38.0	28.0	3.5	La diabetes gestacional en España está asociada a sobrepeso u obesidad moderada previa al embarazo, según estudios nacionales como los publicados por la Sociedad Española de Ginecología y Obstetricia (SEGO) y la Guía NICE adaptada al contexto español. El IMC bajo (<22) es infrecuente en este grupo.

Consideraciones adicionales
OMS (2024) clasifica el IMC de la siguiente manera:

Bajo peso: IMC < 18.5
Normal: 18.5 – 24.9
Sobrepeso: 25.0 – 29.9
Obesidad tipo I: 30.0 – 34.9
Obesidad tipo II: 35.0 – 39.9
Obesidad tipo III: ≥ 40.0

Edad: el IMC tiende a aumentar ligeramente con la edad, especialmente entre los 30 y 60 años. Se introduce un ajuste progresivo por cuartiles o directamente en función de la edad continua.

Sexo:
En promedio, los hombres tienden a tener un IMC ligeramente más alto que las mujeres.
Las mujeres tienen, en general, más porcentaje de grasa corporal a igual IMC, pero eso no se refleja directamente en el índice, así que el ajuste es solo leve (±0.5).

--

Referencias
Estudio ENRICA (2015-2018): Encuesta nacional sobre riesgo cardiovascular y obesidad en población adulta española.
Encuesta Nacional de Salud de España (ENSE 2020): Datos de prevalencia de obesidad y diabetes.
Red Española de Diabetes (REDIAPP): Estudios epidemiológicos sobre diabetes tipo 1 y tipo 2 en España.
Guía de práctica clínica SEMERGEN (2022): Diabetes tipo 2 en atención primaria.
Sociedad Española de Ginecología y Obstetricia (SEGO): Recomendaciones y estudios sobre diabetes gestacional.
Guía NICE adaptada para España (2019): Manejo de diabetes gestacional y recomendaciones nutricionales.
Ministerio de Sanidad, Consumo y Bienestar Social: Informes epidemiológicos y estadísticas sobre diabetes y obesidad.

def generar_imc(diagnostico, cuartil_edad=None, sexo='Mujer', edad=None):
    # Ajustes por diagnóstico
    base = {
        'No diabetes':     {'media': 22.5, 'std': 2.5, 'min': 17.0, 'max': 35.0},
        'Tipo 1': {'media': 24.0, 'std': 3.0, 'min': 18.5, 'max': 38.0},
        'Tipo 2': {'media': 33.0, 'std': 4.0, 'min': 24.0, 'max': 48.0},
        'Gestacional': {'media': 28.0, 'std': 3.5, 'min': 22.0, 'max': 38.0},
    }

    valores = base.get(diagnostico, base['No diabetes'])
    media = valores['media']
    std = valores['std']
    imc_min = valores['min']
    imc_max = valores['max']

    # Ajustes por edad (cuartil o continua)
    if edad is not None:
        media += 0.04 * (edad - 40)  # 0.04 por año por encima/por debajo de 40
    elif cuartil_edad:
        media += {'Q1': -1.0, 'Q2': -0.3, 'Q3': 0.3, 'Q4': 1.0}.get(cuartil_edad, 0.0)

    # Ajustes por sexo
    if sexo == 'Hombre':
        media += 0.5
    elif sexo == 'Mujer':
        media -= 0.5

    # IMC generado con ruido gaussiano
    imc = np.random.normal(media, std)
    return np.clip(imc, imc_min, imc_max)


# Con edad numérica
df['IMC'] = df.apply(lambda row: generar_imc(row['Tipo_Diabetes'], sexo=row['Sexo'], edad=row['Edad']), axis=1)

# Boxplot: IMC por tipo de diabetes y sexo
plt.figure(figsize=(14, 6))
sns.boxplot(data=df, x='Tipo_Diabetes', y='IMC', hue='Sexo')
plt.title('Distribución de IMC por tipo de Diabetes y Sexo')
plt.ylabel('IMC')
plt.grid(True)
plt.show()


# ---------- RESÚMENES CLAROS ----------

# 2. IMC por tipo de diabetes y cuartil de edad
print("\n📊 Resumen de IMC por tipo de diabetes y cuartil de edad:")
print(df.groupby(['Tipo_Diabetes', 'Cuartil_Edad'])['IMC'].agg(['mean', 'min', 'max']).round(2))

Incluyendo variable de glucosa en sangre: HbA1c
🩸 Variable: HbA1c (hemoglobina glicosilada) La hemoglobina glicosilada (HbA1c) refleja el promedio de glucosa en sangre en los últimos 2–3 meses, siendo un marcador recomendado internacionalmente para el diagnóstico y control de la diabetes mellitus. Se expresa como porcentaje (%), y sus valores aumentan de forma sostenida cuando hay hiperglucemia crónica.

📌 Justificación para generación de HbA1c sintética La HbA1c es un marcador clave para el diagnóstico y seguimiento de la diabetes, reflejando el control glucémico promedio en los últimos meses. El valor diagnóstico general es HbA1c ≥ 6.5% para diabetes, pero la media y dispersión varían según tipo de diabetes y características clínicas como el IMC.

Diagnóstico	Rango de HbA1c (%)	Interpretación clínica
Normal	< 5.7	Sin alteración glucémica
Prediabetes	5.7 – 6.4	Riesgo elevado de desarrollar diabetes tipo 2
Diabetes mellitus	≥ 6.5	Diagnóstico confirmado (en dos mediciones o con síntomas)
Fuente: American Diabetes Association (2024) [2], OMS Guidelines (2020) [3]

Según referencias del notebooklm... (revisar nota "Valores típicos de HbA1c y su relación con IMC")

En diabetes tipo 2 (DM2), la HbA1c media reportada ronda entre 7.1% y 7.2%, con una tendencia clara: a mayor IMC, mayor HbA1c media y menor proporción de pacientes con buen control glucémico.

En diabetes tipo 1 (DM1), cohortes específicas reportan medias algo más bajas, alrededor de 6.7%, aunque mantener control estricto es complejo.

En personas sin diabetes, la HbA1c típicamente se sitúa entre 4.5% y 5.6%, con valores más altos indicando prediabetes o diabetes no diagnosticada.

En diabetes gestacional, la HbA1c suele elevarse ligeramente respecto a personas sin diabetes, típicamente con medias alrededor de 6.0% y menor variabilidad que en DM1 o DM2. Este aumento refleja alteraciones transitorias en el metabolismo glucídico durante el embarazo, con valores que suelen normalizarse tras el parto. Referencias específicas son más limitadas pero coinciden en un rango aproximado entre 4.8% y 7.5%.

Por tanto, al generar datos sintéticos, el rango y media de HbA1c deben reflejar estas diferencias, ajustándose además en DM2 por el IMC para simular esa correlación clínica observada.

World Health Organization (2020). Use of glycated haemoglobin (HbA1c) in the diagnosis of diabetes mellitus. Geneva: WHO.
American Diabetes Association (2024). Standards of Medical Care in Diabetes—2024. Diabetes Care, 47(Suppl. 1).
International Diabetes Federation (2021). IDF Diabetes Atlas, 10th edition.

Notas adicionales con referencias españoras
La DM1, que es una enfermedad autoinmune que causa una deficiencia absoluta de insulina lo que dificulta el control glucémico a pesar de la terapia con insulina exógena, tiene una mayor variabilidad y, en promedio, valores más elevados de HbA1c. En estudios españoles, la media de HbA1c en DM1 suele situarse alrededor de 7.5-7.6% con una desviación estándar amplia, reflejando el desafío de mantener un control óptimo. Referencia: Guía SEEN-SED 2021 sobre Diabetes Tipo 1
La DM2 se caracteriza por resistencia a la insulina y déficit relativo de producción. La mayoría de pacientes presentan sobrepeso u obesidad, factores que empeoran el control glucémico. La HbA1c media suele ser algo menor que en DM1 (alrededor de 7.1-7.2%), pero con una dispersión importante asociada a la heterogeneidad de la enfermedad y el tratamiento. Referencia: Estudio Di@bet.es, España
Sin diabetes: En población sin diabetes, la HbA1c media está en torno al 5.2%, con baja variabilidad. Mismas referencias.
Gestacional: Valores típicos de HbA1c en diabetes gestacional se encuentran entre 5.5% y 6.5%, reflejando alteración glucémica moderada y transitoria durante el embarazo, con valores máximos en torno a 7.5%. Se recomienda monitorizar estrechamente para evitar complicaciones maternas y fetales. Referencias: literatura clínica y guías internacionales (ADA, OMS).

Referencias
World Health Organization (2020). Use of glycated haemoglobin (HbA1c) in the diagnosis of diabetes mellitus. Geneva: WHO.
American Diabetes Association (2024). Standards of Medical Care in Diabetes—2024. Diabetes Care, 47(Suppl. 1).
International Diabetes Federation (2021). IDF Diabetes Atlas, 10th edition.
Guía SEEN-SED 2021 sobre Diabetes Tipo 1
Estudio Di@bet.es, España
Literatura clínica sobre diabetes gestacional
OMS Guidelines (2020)
(Incluimos referencias 1,7,23,16,12 del notebooklm)

def generar_hba1c(tipo_diabetes, imc):
    # Parámetros base según tipo de diabetes (valores basados en estudios españoles)
    base = {
        'No diabetes': {'media': 5.2, 'std': 0.3, 'min': 4.5, 'max': 6.0},
        'Tipo 1': {'media': 7.55, 'std': 1.2, 'min': 5.5, 'max': 12.0},
        'Tipo 2': {'media': 7.15, 'std': 1.0, 'min': 5.5, 'max': 11.0},
        'Gestacional': {'media': 6.0, 'std': 0.5, 'min': 4.8, 'max': 7.5},
    }

    params = base.get(tipo_diabetes, base['No diabetes'])
    media = params['media']
    std = params['std']
    hba1c_min = params['min']
    hba1c_max = params['max']

    # Ajuste lineal simple: a mayor IMC, mayor HbA1c (pequeño efecto)
    # Por cada punto de IMC por encima de 25, subimos 0.05 en HbA1c
    if imc > 25:
        media += 0.05 * (imc - 25)

    # Generar valor HbA1c con distribución normal (RUIDO)
    hba1c = np.random.normal(media, std)

    # Limitar a rangos plausibles
    return np.clip(hba1c, hba1c_min, hba1c_max)


# Añadir la variable HbA1c al dataframe
df['HbA1c'] = df.apply(lambda row: generar_hba1c(row['Tipo_Diabetes'], row['IMC']), axis=1)

# Estadísticas descriptivas agrupadas

print("\n--- Estadísticas HbA1c por Tipo de Diabetes ---")
print(df.groupby('Tipo_Diabetes')['HbA1c'].describe())

print("\n--- Estadísticas HbA1c por Tipo de Diabetes y Sexo ---")
print(df.groupby(['Tipo_Diabetes', 'Sexo'])['HbA1c'].describe())

print("\n--- Estadísticas HbA1c por Tipo de Diabetes y Cuartil de Edad ---")
print(df.groupby(['Tipo_Diabetes', 'Cuartil_Edad'])['HbA1c'].describe())

# Visualizaciones

# Boxplot HbA1c por tipo de diabetes y sexo
plt.figure(figsize=(14, 6))
sns.boxplot(data=df, x='Tipo_Diabetes', y='HbA1c', hue='Sexo')
plt.title('Distribución de HbA1c por Tipo de Diabetes y Sexo')
plt.ylabel('HbA1c (%)')
plt.grid(True)
plt.show()

# Scatterplot HbA1c vs IMC, coloreado por tipo de diabetes
plt.figure(figsize=(10, 6))
sns.scatterplot(data=df, x='IMC', y='HbA1c', hue='Tipo_Diabetes', alpha=0.7)
plt.title('Relación entre IMC y HbA1c según Tipo de Diabetes')
plt.xlabel('IMC')
plt.ylabel('HbA1c (%)')
plt.grid(True)
plt.show()

Vamos a añadir un analisis de correlaciones para tener más claro la relacion entre las variables.

# Crear variables dummy para tipo de diabetes
df_corr = df.copy()
dummies = pd.get_dummies(df_corr['Tipo_Diabetes'], prefix='Diabetes')

# Añadir las dummies al dataframe para correlacionar
df_corr = pd.concat([df_corr[['IMC', 'HbA1c']], dummies], axis=1)

# Calcular matriz de correlación
corr_matrix = df_corr.corr()

print("Matriz de correlación:\n", corr_matrix)

# Visualizar la matriz de correlación con un heatmap
plt.figure(figsize=(8, 6))
sns.heatmap(corr_matrix, annot=True, cmap='coolwarm', fmt=".2f", linewidths=0.5)
plt.title('Matriz de correlación entre IMC, HbA1c y Tipo de Diabetes (dummies)')
plt.show()

# Correlaciones IMC vs HbA1c por tipo de diagnóstico
print("\n--- Correlaciones IMC vs HbA1c por Tipo de Diabetes ---")
for diag in df['Tipo_Diabetes'].unique():
    subset = df[df['Tipo_Diabetes'] == diag]
    corr = subset['IMC'].corr(subset['HbA1c'])
    n = len(subset)
    print(f"Diagnóstico: {diag} | N={n} | Correlación IMC-HbA1c: {corr:.3f}")

# Redondear columna 'IMC' a 1 decimales
df['IMC'] = df['IMC'].round(1)

# Redondear columna 'HbA1c' a 2 decimales
df['HbA1c'] = df['HbA1c'].round(2)

INSULINA
Medición de Insulina
